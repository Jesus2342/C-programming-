{
 "cells": [
  {
   "cell_type": "markdown",
   "metadata": {},
   "source": [
    "Array with at least 5 rows and 9 columns "
   ]
  },
  {
   "cell_type": "code",
   "execution_count": null,
   "metadata": {
    "vscode": {
     "languageId": "plaintext"
    }
   },
   "outputs": [],
   "source": [
    "int m[5] [9]; "
   ]
  },
  {
   "cell_type": "markdown",
   "metadata": {},
   "source": [
    "### Initializing a Multidimenstional Array "
   ]
  },
  {
   "cell_type": "markdown",
   "metadata": {},
   "source": [
    " Here we can see 5 rows with 9 columns\n",
    " \n",
    " int m[5][9] = { \n",
    "        {1, 2, 3, 4, 5, 6, 7, 8, 9},          #1\n",
    "        {10, 11, 12, 13, 14, 15, 16, 17, 18}, #2\n",
    "        {19, 20, 21, 22, 23, 24, 25, 26, 27}, #3\n",
    "        {28, 29, 30, 31, 32, 33, 34, 35, 36}, #4\n",
    "        {37, 38, 39, 40, 41, 42, 43, 44, 45}  #5\n",
    "    };"
   ]
  },
  {
   "cell_type": "markdown",
   "metadata": {},
   "source": [
    "if the initializer isnt large enogh to fill a multidimenstional array, the remaining elements are given the value 0"
   ]
  },
  {
   "cell_type": "code",
   "execution_count": null,
   "metadata": {
    "vscode": {
     "languageId": "plaintext"
    }
   },
   "outputs": [],
   "source": [
    "\n",
    "int m[5][9] = { {1, 2, 3, 4, 5, 6, 7, 8, 9},          #1\n",
    "                {10, 11, 12, 13, 14, 15, 16, 17, 18}, #2\n",
    "                {19, 20, 21, 22, 23, 24, 25, 26, 27}  #3\n",
    "              };"
   ]
  },
  {
   "cell_type": "markdown",
   "metadata": {},
   "source": [
    "### Aditional tips "
   ]
  },
  {
   "cell_type": "markdown",
   "metadata": {},
   "source": [
    "Variables like rows and cols cannot be used in the array declaration like this."
   ]
  },
  {
   "cell_type": "code",
   "execution_count": null,
   "metadata": {
    "vscode": {
     "languageId": "plaintext"
    }
   },
   "outputs": [],
   "source": [
    "int main(){\n",
    "    int rows = 5, cols = 4;\n",
    "    \n",
    "    int my_matrix[rows][cols] = {{1, 0, 0, 2},   (WRONG!)\n",
    "                           {3, 2, 2, 1},\n",
    "                           {4, 3, 2, 1},\n",
    "                           {3, 5, 6, 7},\n",
    "                           {9, 2, 5, 3}};"
   ]
  },
  {
   "cell_type": "code",
   "execution_count": null,
   "metadata": {
    "vscode": {
     "languageId": "plaintext"
    }
   },
   "outputs": [],
   "source": [
    "int main() {\n",
    "    int rows = 5, cols = 4;\n",
    "    int my_matrix[rows][cols];  // VLA, size determined at runtime (GOOD)"
   ]
  },
  {
   "cell_type": "code",
   "execution_count": null,
   "metadata": {
    "vscode": {
     "languageId": "plaintext"
    }
   },
   "outputs": [],
   "source": []
  }
 ],
 "metadata": {
  "language_info": {
   "name": "python"
  }
 },
 "nbformat": 4,
 "nbformat_minor": 2
}
